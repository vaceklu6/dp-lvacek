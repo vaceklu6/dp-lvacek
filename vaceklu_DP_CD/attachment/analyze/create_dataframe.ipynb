{
 "cells": [
  {
   "cell_type": "code",
   "execution_count": null,
   "metadata": {},
   "outputs": [],
   "source": [
    "import pandas as pd\n",
    "import matplotlib\n",
    "import matplotlib.pyplot as plt\n",
    "import numpy\n",
    "import glob\n",
    "from datetime import datetime\n",
    "\n",
    "\n",
    "date=\"20200227\""
   ]
  },
  {
   "cell_type": "code",
   "execution_count": null,
   "metadata": {},
   "outputs": [],
   "source": [
    "## Read\n",
    "rtt_header = ['timestamp', 'src', 'dst', 'rtt', 'country_code', 'asn', 'server', 'ipv']\n",
    "rtt_dtypes = {1: str, 2: str, 3: float, 4: str, 5: str, 6:str, 7:str}\n",
    "rtt_file = f'Data/enriched_rtt_{date}.csv'\n",
    "\n",
    "df = pd.read_csv(rtt_file, sep=';',\n",
    "                        names= rtt_header,\n",
    "                        dtype=rtt_dtypes,\n",
    "                        parse_dates=[0]\n",
    "                    )\n",
    "\n",
    "#df['timestamp'] = pandas.to_datetime(df['timestamp'])\n",
    "#df = df.drop(columns=['timestamp'])\n",
    "#print(df.head())\n",
    "\n",
    "#df.dtypesprint(df_merge.head())\n",
    "df = df.replace({'dst': {'194.0.12.1': 'A', '2001:678:f::1': 'A'}})\n",
    "df = df.replace({'dst': {'194.0.13.1': 'B', '2001:678:10::1': 'B'}})\n",
    "df = df.replace({'dst': {'194.0.14.1': 'C', '2001:678:11::1': 'C'}})\n",
    "df = df.replace({'dst': {'193.29.206.1': 'D', '2001:678:1::1': 'D'}})\n",
    "df = df.rename(columns={'dst': 'anycast'})\n",
    "df.head()"
   ]
  },
  {
   "cell_type": "code",
   "execution_count": null,
   "metadata": {},
   "outputs": [],
   "source": [
    "## Procces rtt file\n",
    "df = df.groupby(['src', 'anycast', 'country_code','asn','server','ipv']).agg(\n",
    "                {\"rtt\":['mean', 'count']}).reset_index()\n",
    "\n",
    "#Merge columns\n",
    "df.columns = [\"_\".join(x) if x[1] != '' else x[0] for x in df.columns.ravel() ]\n",
    "#df = df.replace({'ipv': {'ipv4': '4', 'ipv6': '6'}})\n",
    "df.head()\n"
   ]
  },
  {
   "cell_type": "code",
   "execution_count": null,
   "metadata": {},
   "outputs": [],
   "source": [
    "## Read and procces queries\n",
    "queries_file = f'Data/queries_{date}/enriched_{date}_cz.csv'\n",
    "queries_data_type = {0: str, 1: str, 2: str, 3: str, 4: int, 5: int, 6: int, 7: str, 8: str}\n",
    "\n",
    "df_queries = pd.read_csv(queries_file, sep=';',\n",
    "                        dtype=queries_data_type,\n",
    "                    )\n",
    "\n",
    "#print(df.dtypes)\n",
    "df_queries = df_queries.replace({'dst': {'194.0.12.1': 'A', '2001:678:f::1': 'A'}})\n",
    "df_queries = df_queries.replace({'dst': {'194.0.13.1': 'B', '2001:678:10::1': 'B'}})\n",
    "df_queries = df_queries.replace({'dst': {'194.0.14.1': 'C', '2001:678:11::1': 'C'}})\n",
    "df_queries = df_queries.replace({'dst': {'193.29.206.1': 'D', '2001:678:1::1': 'D'}})\n",
    "df_queries = df_queries.rename(columns={'dst': 'anycast'})\n",
    "df_queries = df_queries.set_index(['src','anycast','server', 'ipv', 'asn', 'country_code'])\n",
    "#df_queries = df_queries.drop(columns=['ipv'])\n",
    "df_queries.head()\n"
   ]
  },
  {
   "cell_type": "code",
   "execution_count": null,
   "metadata": {},
   "outputs": [],
   "source": [
    "## Merge dataframes\n",
    "\n",
    "df = df.set_index(['src','anycast', 'server', 'ipv', 'asn', 'country_code'])\n",
    "\n",
    "df_merge = df_queries.join(df, on=['src','anycast', 'server', 'ipv', 'asn', 'country_code'], how='outer')\n",
    "#print(df_merge.head())"
   ]
  },
  {
   "cell_type": "code",
   "execution_count": null,
   "metadata": {},
   "outputs": [],
   "source": [
    "## Enrich datatable by country code with Country Name, Region, Subregion\n",
    "cc_file = 'Data/cc.csv'\n",
    "df_cc = pd.read_csv(cc_file, sep=','\n",
    "                     )\n",
    "#print(df_cc.head())\n",
    "df_cc_short = df_cc[['alpha-2','region','sub-region','name']]\n",
    "df_cc_short = df_cc_short.rename(columns={\"alpha-2\": \"country_code\", \"name\": \"country_name\", \"sub-region\":\"sub_region\"})\n",
    "#print(df_cc_short.head())\n",
    "main_index = ['server', 'ipv', 'asn', 'country_code']\n",
    "result = pd.merge(df_cc_short.reset_index(), \n",
    "                  df_merge.reset_index(),\n",
    "                  on=['country_code'], \n",
    "                  how='outer').set_index(main_index)\n",
    "#result = result.drop(columns=['src','index'])\n",
    "result = result.drop(columns=['index']).reset_index()\n",
    "\n"
   ]
  },
  {
   "cell_type": "code",
   "execution_count": null,
   "metadata": {},
   "outputs": [],
   "source": [
    "def eval_rtt_by_column(x):\n",
    "    d = {}\n",
    "    d['rtt_mean'] = x['rtt_mean'].mean()\n",
    "    d['cnt'] = x['cnt'].sum()\n",
    "    if x['cnt'].sum() != 0: \n",
    "        d['rtt_eval'] = (x['cnt'] * x['rtt_mean']).sum() / x['cnt'].sum()\n",
    "    else:\n",
    "        d['rtt_eval'] = None\n",
    "    return pd.Series(d, index=['rtt_mean', 'rtt_eval', 'cnt', ])"
   ]
  },
  {
   "cell_type": "code",
   "execution_count": null,
   "metadata": {},
   "outputs": [],
   "source": [
    "result = result.groupby(['server', 'anycast', 'ipv', 'asn', 'region', 'sub_region', 'country_name','country_code']).apply(eval_rtt_by_column)"
   ]
  },
  {
   "cell_type": "code",
   "execution_count": null,
   "metadata": {},
   "outputs": [],
   "source": [
    "## Export whole dataframe to csv\n",
    "result.to_csv(f'dataframes/{date}_src.csv')"
   ]
  }
 ],
 "metadata": {
  "kernelspec": {
   "display_name": "Python 3",
   "language": "python",
   "name": "python3"
  },
  "language_info": {
   "codemirror_mode": {
    "name": "ipython",
    "version": 3
   },
   "file_extension": ".py",
   "mimetype": "text/x-python",
   "name": "python",
   "nbconvert_exporter": "python",
   "pygments_lexer": "ipython3",
   "version": "3.6.9"
  }
 },
 "nbformat": 4,
 "nbformat_minor": 4
}
